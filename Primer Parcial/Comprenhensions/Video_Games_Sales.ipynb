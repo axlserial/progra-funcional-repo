{
  "cells": [
    {
      "cell_type": "code",
      "execution_count": 40,
      "metadata": {
        "id": "4a1rwjsdftLi"
      },
      "outputs": [],
      "source": [
        "import csv\n",
        "from pprint import pprint\n",
        "from statistics import mean\n",
        "\n",
        "f = './vgsales.csv'"
      ]
    },
    {
      "cell_type": "markdown",
      "metadata": {
        "id": "Zy6-iPDpce03"
      },
      "source": [
        "# **Proyecto 1.2. Comprenhensions**\n",
        "## Video Games Sales\n",
        "\n",
        "#### Integrantes del equipo:\n",
        "1.   Elorza Velásquez Margarita\n",
        "2.   García González Axel Isaac\n",
        "\n"
      ]
    },
    {
      "cell_type": "markdown",
      "metadata": {
        "id": "bVJE_Jz3fYbk"
      },
      "source": [
        "### **List comprenhensions**\n",
        "\n"
      ]
    },
    {
      "cell_type": "markdown",
      "metadata": {
        "id": "J3oJZ0kk5AWq"
      },
      "source": [
        "\n",
        "\n",
        "> *NOTA: Impresión limitada a los primeros 10 elementos de las listas.*\n",
        "\n"
      ]
    },
    {
      "cell_type": "markdown",
      "metadata": {
        "id": "aBBEECJShzmw"
      },
      "source": [
        "> 1. Lista que contieene todos los nombres de los juegos.\n"
      ]
    },
    {
      "cell_type": "code",
      "execution_count": 41,
      "metadata": {
        "id": "abJ-2T-PcY0f"
      },
      "outputs": [],
      "source": [
        "def first_list_comp(name_file: str):\n",
        "    with open(name_file) as csvfile:\n",
        "        games = csv.reader(csvfile, delimiter=',')\n",
        "        h = next(games)\n",
        "\n",
        "        list_games = [game[h.index(\"Name\")] for game in games]\n",
        "\n",
        "        return list_games"
      ]
    },
    {
      "cell_type": "markdown",
      "metadata": {
        "id": "6L2NCKHogCJb"
      },
      "source": [
        "> >Resutados:"
      ]
    },
    {
      "cell_type": "code",
      "execution_count": 42,
      "metadata": {
        "id": "uhDcEv0tgEs_"
      },
      "outputs": [
        {
          "name": "stdout",
          "output_type": "stream",
          "text": [
            "['Wii Sports', 'Super Mario Bros.', 'Mario Kart Wii', 'Wii Sports Resort', 'Pokemon Red/Pokemon Blue', 'Tetris', 'New Super Mario Bros.', 'Wii Play', 'New Super Mario Bros. Wii', 'Duck Hunt']\n"
          ]
        }
      ],
      "source": [
        "print(first_list_comp(f)[:10])"
      ]
    },
    {
      "cell_type": "markdown",
      "metadata": {
        "id": "COGW3HjCgFiK"
      },
      "source": [
        "> 2. Lista de tuplas con todo los registros y las columnas: Name y Year. Se muestran tuplas con el nombre y el año de todos los juegos."
      ]
    },
    {
      "cell_type": "code",
      "execution_count": 43,
      "metadata": {
        "id": "L_qWNynlgXgJ"
      },
      "outputs": [],
      "source": [
        "def second_list_comp(name_file: str):\n",
        "    with open(name_file) as csvfile:\n",
        "        games = csv.reader(csvfile, delimiter=',')\n",
        "        h = next(games)\n",
        "\n",
        "        list_games = [(game[h.index(\"Name\")], game[h.index(\"Year\")])\n",
        "                      for game in games]\n",
        "\n",
        "        return list_games"
      ]
    },
    {
      "cell_type": "markdown",
      "metadata": {
        "id": "5Khua5y0gb0u"
      },
      "source": [
        "> > Resultados:"
      ]
    },
    {
      "cell_type": "code",
      "execution_count": 44,
      "metadata": {
        "id": "pf7gVClQgdgq"
      },
      "outputs": [
        {
          "name": "stdout",
          "output_type": "stream",
          "text": [
            "[('Wii Sports', '2006'), ('Super Mario Bros.', '1985'), ('Mario Kart Wii', '2008'), ('Wii Sports Resort', '2009'), ('Pokemon Red/Pokemon Blue', '1996'), ('Tetris', '1989'), ('New Super Mario Bros.', '2006'), ('Wii Play', '2006'), ('New Super Mario Bros. Wii', '2009'), ('Duck Hunt', '1984')]\n"
          ]
        }
      ],
      "source": [
        "print(second_list_comp(f)[:10])"
      ]
    },
    {
      "cell_type": "markdown",
      "metadata": {
        "id": "ncgFrVTjgd_b"
      },
      "source": [
        "> 3. Lista de tuplas con el nombre, el año y la plataforma de los juegos. Las columnas a utilizar son: Name, Year y Platform."
      ]
    },
    {
      "cell_type": "code",
      "execution_count": 45,
      "metadata": {
        "id": "BB3P8e1ggrhD"
      },
      "outputs": [],
      "source": [
        "def third_list_comp(name_file: str):\n",
        "    with open(name_file) as csvfile:\n",
        "        games = csv.reader(csvfile, delimiter=',')\n",
        "        h = next(games)\n",
        "\n",
        "        list_games = [(game[h.index(\"Name\")], game[h.index(\"Year\")],\n",
        "                       game[h.index(\"Platform\")]) for game in games]\n",
        "\n",
        "        return list_games"
      ]
    },
    {
      "cell_type": "markdown",
      "metadata": {
        "id": "8wEgLicDgu9t"
      },
      "source": [
        "> > Resultados:"
      ]
    },
    {
      "cell_type": "code",
      "execution_count": 46,
      "metadata": {
        "id": "eF5ipY1Bgw8m"
      },
      "outputs": [
        {
          "name": "stdout",
          "output_type": "stream",
          "text": [
            "[('Wii Sports', '2006', 'Wii'), ('Super Mario Bros.', '1985', 'NES'), ('Mario Kart Wii', '2008', 'Wii'), ('Wii Sports Resort', '2009', 'Wii'), ('Pokemon Red/Pokemon Blue', '1996', 'GB'), ('Tetris', '1989', 'GB'), ('New Super Mario Bros.', '2006', 'DS'), ('Wii Play', '2006', 'Wii'), ('New Super Mario Bros. Wii', '2009', 'Wii'), ('Duck Hunt', '1984', 'NES')]\n"
          ]
        }
      ],
      "source": [
        "print(third_list_comp(f)[:10])"
      ]
    },
    {
      "cell_type": "markdown",
      "metadata": {
        "id": "7TMSWv8eg5_Z"
      },
      "source": [
        "> 4. Lista de tuplas que esten compuestas por las columnas Name y Avg_Sales es cual se obtiene del promedio de las columnas NA_Sales EU_Sales, JP_Sales, Other_Sales y Global_Sales."
      ]
    },
    {
      "cell_type": "code",
      "execution_count": 47,
      "metadata": {
        "id": "_cwXgLjlhCUJ"
      },
      "outputs": [],
      "source": [
        "def fourth_list_comp(name_file: str):\n",
        "    sales = ['NA_Sales', 'EU_Sales', 'JP_Sales', 'Other_Sales', 'Global_Sales']\n",
        "\n",
        "    with open(name_file) as csvfile:\n",
        "        games = csv.reader(csvfile, delimiter=',')\n",
        "        h = list(next(games))\n",
        "\n",
        "        list_games = [(game[h.index(\"Name\")],\n",
        "                       mean([float(game[h.index(k)]) for k in sales]))\n",
        "                      for game in games]\n",
        "\n",
        "        return list_games"
      ]
    },
    {
      "cell_type": "markdown",
      "metadata": {
        "id": "q0aMdOwyhI_i"
      },
      "source": [
        "> > Resultados:"
      ]
    },
    {
      "cell_type": "code",
      "execution_count": 48,
      "metadata": {
        "id": "qRJsbV3AhLjc"
      },
      "outputs": [
        {
          "name": "stdout",
          "output_type": "stream",
          "text": [
            "[('Wii Sports', 33.096), ('Super Mario Bros.', 16.096), ('Mario Kart Wii', 14.33), ('Wii Sports Resort', 13.2), ('Pokemon Red/Pokemon Blue', 12.55), ('Tetris', 12.104), ('New Super Mario Bros.', 12.004000000000001), ('Wii Play', 11.606), ('New Super Mario Bros. Wii', 11.446), ('Duck Hunt', 11.324)]\n"
          ]
        }
      ],
      "source": [
        "print(fourth_list_comp(f)[:10])"
      ]
    },
    {
      "cell_type": "markdown",
      "metadata": {
        "id": "LYMbfOYEhL3o"
      },
      "source": [
        "> 5. Lista de listas con todos lo registros del archivo donde los juegos sean del año 2006 y su posición sea menor a 2000."
      ]
    },
    {
      "cell_type": "code",
      "execution_count": 49,
      "metadata": {
        "id": "NeYoKB2UhpNr"
      },
      "outputs": [],
      "source": [
        "def fifth_list_comp(name_file: str):\n",
        "    with open(name_file) as csvfile:\n",
        "\n",
        "        games = csv.reader(csvfile, delimiter=',')\n",
        "        h = next(games)\n",
        "        list_games = [\n",
        "            game for game in games if game[h.index(\"Year\")] == \"2016\"\n",
        "            and float(game[h.index(\"Rank\")]) < 2000\n",
        "        ]\n",
        "\n",
        "        return list_games"
      ]
    },
    {
      "cell_type": "markdown",
      "metadata": {
        "id": "aY73tDqxhu57"
      },
      "source": [
        "> > Resultados:"
      ]
    },
    {
      "cell_type": "code",
      "execution_count": 50,
      "metadata": {
        "id": "sqH5WqDwhwQv"
      },
      "outputs": [
        {
          "name": "stdout",
          "output_type": "stream",
          "text": [
            "[['222', 'FIFA 17', 'PS4', '2016', 'Sports', 'Electronic Arts', '0.28', '3.75', '0.06', '0.69', '4.77'], ['272', \"Uncharted 4: A Thief's End\", 'PS4', '2016', 'Shooter', 'Sony Computer Entertainment', '1.3', '2.07', '0.18', '0.65', '4.2'], ['352', \"Tom Clancy's The Division\", 'PS4', '2016', 'Shooter', 'Ubisoft', '1.28', '1.61', '0.15', '0.57', '3.61'], ['772', 'Far Cry: Primal', 'PS4', '2016', 'Action', 'Ubisoft', '0.59', '1.16', '0.06', '0.33', '2.13'], ['847', \"Tom Clancy's The Division\", 'XOne', '2016', 'Shooter', 'Ubisoft', '1.2', '0.62', '0', '0.18', '2.01'], ['1028', 'Overwatch', 'PS4', '2016', 'Shooter', 'Activision', '0.64', '0.68', '0.14', '0.26', '1.73'], ['1158', \"No Man's Sky\", 'PS4', '2016', 'Action', 'Hello Games', '0.58', '0.74', '0.02', '0.26', '1.6'], ['1191', 'Dark Souls III', 'PS4', '2016', 'Role-Playing', 'Namco Bandai Games', '0.58', '0.44', '0.33', '0.21', '1.56'], ['1226', 'FIFA 17', 'XOne', '2016', 'Sports', 'Electronic Arts', '0.17', '1.26', '0', '0.1', '1.53'], ['1391', 'Doom (2016)', 'PS4', '2016', 'Shooter', 'Bethesda Softworks', '0.49', '0.66', '0.02', '0.22', '1.39']]\n"
          ]
        }
      ],
      "source": [
        "print(fifth_list_comp(f)[:10])"
      ]
    },
    {
      "cell_type": "markdown",
      "metadata": {
        "id": "Zptt18Arh9Ea"
      },
      "source": [
        "### **Dictionary comprenhensions**"
      ]
    },
    {
      "cell_type": "markdown",
      "metadata": {
        "id": "u8z46Ou34d8I"
      },
      "source": [
        "\n",
        "\n",
        "> *Nota: Impresión limitada a los primeros 3 elementos de cada diccionario*\n",
        "\n"
      ]
    },
    {
      "cell_type": "markdown",
      "metadata": {
        "id": "h5K_7COniB5K"
      },
      "source": [
        ">1. Diccionario con el 'Name' del juego como clave y la 'Platform' del juego como valor. Se realizará con todos los registros."
      ]
    },
    {
      "cell_type": "code",
      "execution_count": 51,
      "metadata": {
        "id": "iux1uPoDiQG2"
      },
      "outputs": [],
      "source": [
        "def first_dict_comp(name_file: str):\n",
        "    with open(name_file) as csvfile:\n",
        "        games = csv.reader(csvfile, delimiter=',')\n",
        "        h = next(games)\n",
        "\n",
        "        dict_games = {\n",
        "            game[h.index(\"Name\")]: game[h.index(\"Platform\")]\n",
        "            for game in games\n",
        "        }\n",
        "\n",
        "        return dict_games"
      ]
    },
    {
      "cell_type": "markdown",
      "metadata": {
        "id": "2FdbYDMOiSof"
      },
      "source": [
        ">> Resultados: "
      ]
    },
    {
      "cell_type": "code",
      "execution_count": 52,
      "metadata": {
        "id": "vUbJw3_ziVcY"
      },
      "outputs": [
        {
          "name": "stdout",
          "output_type": "stream",
          "text": [
            "{'Mario Kart Wii': 'Wii', 'Super Mario Bros.': 'GB', 'Wii Sports': 'Wii'}\n"
          ]
        }
      ],
      "source": [
        "first = first_dict_comp(f)\n",
        "pprint(dict(list(first.items())[:3]))"
      ]
    },
    {
      "cell_type": "markdown",
      "metadata": {
        "id": "VmEfHinEidXq"
      },
      "source": [
        ">2. Diccionario con el 'Name' del juego como clave y la 'Platform' del juego como valor que sean del año 2009. Se realizará con todos lo registros."
      ]
    },
    {
      "cell_type": "code",
      "execution_count": 53,
      "metadata": {
        "id": "YvWfOZ5XinGX"
      },
      "outputs": [],
      "source": [
        "def second_dict_comp(name_file: str):\n",
        "    with open(name_file) as csvfile:\n",
        "        games = csv.reader(csvfile, delimiter=',')\n",
        "        h = next(games)\n",
        "\n",
        "        dict_games = {\n",
        "            game[h.index(\"Name\")]: game[h.index(\"Platform\")]\n",
        "            for game in games if game[h.index(\"Year\")] == \"2009\"\n",
        "        }\n",
        "\n",
        "        return dict_games"
      ]
    },
    {
      "cell_type": "markdown",
      "metadata": {
        "id": "510mc-PuipZT"
      },
      "source": [
        ">>Resultados:"
      ]
    },
    {
      "cell_type": "code",
      "execution_count": 54,
      "metadata": {
        "id": "NqIHjo3XirAw"
      },
      "outputs": [
        {
          "name": "stdout",
          "output_type": "stream",
          "text": [
            "{'New Super Mario Bros. Wii': 'Wii',\n",
            " 'Wii Fit Plus': 'Wii',\n",
            " 'Wii Sports Resort': 'Wii'}\n"
          ]
        }
      ],
      "source": [
        "second = second_dict_comp(f)\n",
        "pprint(dict(list(second.items())[:3]))"
      ]
    },
    {
      "cell_type": "markdown",
      "metadata": {
        "id": "oLkE5raMirpw"
      },
      "source": [
        ">3. Diccionario con todos los registros donde su 'Publisher' sea Sega."
      ]
    },
    {
      "cell_type": "code",
      "execution_count": 55,
      "metadata": {
        "id": "Qj6pPZqfix6o"
      },
      "outputs": [],
      "source": [
        "def third_dict_comp(name_file: str):\n",
        "    with open(name_file) as csvfile:\n",
        "        games = csv.reader(csvfile, delimiter=',')\n",
        "        h = next(games)\n",
        "\n",
        "        dict_games = {\n",
        "            game[h.index(\"Name\")]: {\n",
        "                \"Platform\": game[h.index(\"Platform\")],\n",
        "                \"Year\": game[h.index(\"Year\")],\n",
        "                \"Genre\": game[h.index(\"Genre\")],\n",
        "                \"Publisher\": game[h.index(\"Publisher\")]\n",
        "            }\n",
        "            for game in games if game[h.index(\"Publisher\")] == \"Sega\"\n",
        "        }\n",
        "\n",
        "        return dict_games"
      ]
    },
    {
      "cell_type": "markdown",
      "metadata": {
        "id": "fAODEcdLi16I"
      },
      "source": [
        ">>Resultados:"
      ]
    },
    {
      "cell_type": "code",
      "execution_count": 56,
      "metadata": {
        "id": "vbsFDyoyi3SI"
      },
      "outputs": [
        {
          "name": "stdout",
          "output_type": "stream",
          "text": [
            "{'Mario & Sonic at the Olympic Games': {'Genre': 'Sports',\n",
            "                                        'Platform': 'DS',\n",
            "                                        'Publisher': 'Sega',\n",
            "                                        'Year': '2008'},\n",
            " 'Mario & Sonic at the Olympic Winter Games': {'Genre': 'Sports',\n",
            "                                               'Platform': 'DS',\n",
            "                                               'Publisher': 'Sega',\n",
            "                                               'Year': '2009'},\n",
            " 'Sonic the Hedgehog 2': {'Genre': 'Platform',\n",
            "                          'Platform': 'GEN',\n",
            "                          'Publisher': 'Sega',\n",
            "                          'Year': '1992'}}\n"
          ]
        }
      ],
      "source": [
        "third = third_dict_comp(f)\n",
        "pprint(dict(list(third.items())[:3]))"
      ]
    },
    {
      "cell_type": "markdown",
      "metadata": {
        "id": "7FNoh0QrjWN-"
      },
      "source": [
        ">4. Diccionario que tiene el 'Name' del juego como clave y sus datos como valor y que 'Rank' sea mayor a 10 y menor a 20."
      ]
    },
    {
      "cell_type": "code",
      "execution_count": 57,
      "metadata": {
        "id": "v-wnRNNLjbjy"
      },
      "outputs": [],
      "source": [
        "def fourth_dict_comp(name_file: str):\n",
        "    with open(name_file) as csvfile:\n",
        "        games = csv.reader(csvfile, delimiter=',')\n",
        "        h = next(games)\n",
        "\n",
        "        dict_games = {\n",
        "            game[h.index(\"Name\")]: {\n",
        "                \"Rank\": game[h.index(\"Rank\")],\n",
        "                \"Platform\": game[h.index(\"Platform\")],\n",
        "                \"Year\": game[h.index(\"Year\")],\n",
        "                \"Genre\": game[h.index(\"Genre\")],\n",
        "                \"Publisher\": game[h.index(\"Publisher\")]\n",
        "            }\n",
        "            for game in games if int(game[h.index(\"Rank\")]) > 10\n",
        "            and int(game[h.index(\"Rank\")]) < 20\n",
        "        }\n",
        "\n",
        "        return dict_games"
      ]
    },
    {
      "cell_type": "markdown",
      "metadata": {
        "id": "DV2rp1ZBjeCE"
      },
      "source": [
        ">>Resultados:"
      ]
    },
    {
      "cell_type": "code",
      "execution_count": 58,
      "metadata": {
        "id": "rRuJRbE3jf_m"
      },
      "outputs": [
        {
          "name": "stdout",
          "output_type": "stream",
          "text": [
            "{'Mario Kart DS': {'Genre': 'Racing',\n",
            "                   'Platform': 'DS',\n",
            "                   'Publisher': 'Nintendo',\n",
            "                   'Rank': '12',\n",
            "                   'Year': '2005'},\n",
            " 'Nintendogs': {'Genre': 'Simulation',\n",
            "                'Platform': 'DS',\n",
            "                'Publisher': 'Nintendo',\n",
            "                'Rank': '11',\n",
            "                'Year': '2005'},\n",
            " 'Pokemon Gold/Pokemon Silver': {'Genre': 'Role-Playing',\n",
            "                                 'Platform': 'GB',\n",
            "                                 'Publisher': 'Nintendo',\n",
            "                                 'Rank': '13',\n",
            "                                 'Year': '1999'}}\n"
          ]
        }
      ],
      "source": [
        "fourth = fourth_dict_comp(f)\n",
        "pprint(dict(list(fourth.items())[:3]))"
      ]
    },
    {
      "cell_type": "markdown",
      "metadata": {
        "id": "5Ck3XfPEjiFy"
      },
      "source": [
        ">5. Diccioanrio con el 'Name' del juego como clave y un promedio de sus Sales como valor."
      ]
    },
    {
      "cell_type": "code",
      "execution_count": 59,
      "metadata": {
        "id": "r_7CbRxhjnH2"
      },
      "outputs": [],
      "source": [
        "def fifth_dict_comp(name_file: str):\n",
        "    with open(name_file) as csvfile:\n",
        "        games = csv.reader(csvfile, delimiter=',')\n",
        "        h = next(games)\n",
        "\n",
        "        dict_games = {\n",
        "            game[h.index(\"Name\")]: mean(\n",
        "                [float(game[h.index(\"NA_Sales\")]),\n",
        "                 float(game[h.index(\"EU_Sales\")]),\n",
        "                 float(game[h.index(\"JP_Sales\")]),\n",
        "                 float(game[h.index(\"Other_Sales\")])])\n",
        "            for game in games\n",
        "        }\n",
        "\n",
        "        return dict_games"
      ]
    },
    {
      "cell_type": "markdown",
      "metadata": {
        "id": "j6tk-cj4jpBU"
      },
      "source": [
        ">>Resultados:"
      ]
    },
    {
      "cell_type": "code",
      "execution_count": 60,
      "metadata": {
        "id": "U_Qjl52QjqXk"
      },
      "outputs": [
        {
          "name": "stdout",
          "output_type": "stream",
          "text": [
            "{'Mario Kart Wii': 8.9575,\n",
            " 'Super Mario Bros.': 1.2675,\n",
            " 'Wii Sports': 20.685000000000002}\n"
          ]
        }
      ],
      "source": [
        "fifth = fifth_dict_comp(f)\n",
        "pprint(dict(list(fifth.items())[:3]))"
      ]
    },
    {
      "cell_type": "markdown",
      "metadata": {
        "id": "jlzE0rB8kUEH"
      },
      "source": [
        "### **Set comprenhensions**"
      ]
    },
    {
      "cell_type": "markdown",
      "metadata": {
        "id": "QkTkE4q54tSt"
      },
      "source": [
        "\n",
        "\n",
        "> *NOTA: Impresión limitada a los primeros 5 elementos de los conjuntos.*\n",
        "\n"
      ]
    },
    {
      "cell_type": "markdown",
      "metadata": {
        "id": "hNmGLj1Rkb2S"
      },
      "source": [
        ">1. Conjunto de los nombres de las plataformas."
      ]
    },
    {
      "cell_type": "code",
      "execution_count": 61,
      "metadata": {
        "id": "4G5e_RSTkfjj"
      },
      "outputs": [],
      "source": [
        "def first_set_comp(name_file: str):\n",
        "    with open(name_file) as csvfile:\n",
        "        games = csv.reader(csvfile, delimiter=\",\")\n",
        "        h = next(games)\n",
        "\n",
        "        set_games = {game[h.index(\"Platform\")] for game in games}\n",
        "\n",
        "        return set_games"
      ]
    },
    {
      "cell_type": "markdown",
      "metadata": {
        "id": "huuxQ8rckjbH"
      },
      "source": [
        ">>Resultados:"
      ]
    },
    {
      "cell_type": "code",
      "execution_count": 62,
      "metadata": {
        "id": "fAypouwHkiqR"
      },
      "outputs": [
        {
          "name": "stdout",
          "output_type": "stream",
          "text": [
            "{'TG16', '2600', 'GEN', 'GB', 'XOne'}\n"
          ]
        }
      ],
      "source": [
        "pprint(set(list(first_set_comp(f))[:5]))"
      ]
    },
    {
      "cell_type": "markdown",
      "metadata": {
        "id": "w5YCtzn_km6z"
      },
      "source": [
        ">2. Conjunto de todos los registros que sus elementos sean la tupla \"Name\" y \"Global_Sales\" de los juegos."
      ]
    },
    {
      "cell_type": "code",
      "execution_count": 63,
      "metadata": {
        "id": "hZpVm-kZktSt"
      },
      "outputs": [],
      "source": [
        "def second_set_comp(name_file: str):\n",
        "    with open(name_file) as csvfile:\n",
        "        games = csv.reader(csvfile, delimiter=\",\")\n",
        "        h = next(games)\n",
        "\n",
        "        set_games = {(game[h.index(\"Name\")], game[h.index(\"Global_Sales\")])\n",
        "                     for game in games}\n",
        "\n",
        "        return set_games"
      ]
    },
    {
      "cell_type": "markdown",
      "metadata": {
        "id": "rIQwUaaukwfh"
      },
      "source": [
        ">>Resultados:"
      ]
    },
    {
      "cell_type": "code",
      "execution_count": 64,
      "metadata": {
        "id": "-U4LLtMOkyIR"
      },
      "outputs": [
        {
          "name": "stdout",
          "output_type": "stream",
          "text": [
            "{('Avatar: The Last Airbender - Into the Inferno', '0.19'),\n",
            " ('Final Fantasy II', '0.25'),\n",
            " (\"Jumper: Griffin's Story\", '0.07'),\n",
            " ('Just Dance: Disney Party 2', '0.07'),\n",
            " (\"Tony Hawk's Project 8\", '0.56')}\n"
          ]
        }
      ],
      "source": [
        "pprint(set(list(second_set_comp(f))[:5]))"
      ]
    },
    {
      "cell_type": "markdown",
      "metadata": {
        "id": "Hsj8EWsWkzlv"
      },
      "source": [
        ">3. Conjunto de todos los registros que sus elementos sean la tupla \"Name\" y \"NA_Sales\" de los juegos que hayan vendido más de 5.0 millones en NA."
      ]
    },
    {
      "cell_type": "code",
      "execution_count": 65,
      "metadata": {
        "id": "WOmfZkZAk503"
      },
      "outputs": [],
      "source": [
        "def third_set_comp(name_file: str):\n",
        "    with open(name_file) as csvfile:\n",
        "        games = csv.reader(csvfile, delimiter=\",\")\n",
        "        h = next(games)\n",
        "\n",
        "        set_games = {(game[h.index(\"Name\")], game[h.index(\"NA_Sales\")])\n",
        "                     for game in games\n",
        "                     if float(game[h.index(\"NA_Sales\")]) > 5.0}\n",
        "\n",
        "        return set_games"
      ]
    },
    {
      "cell_type": "markdown",
      "metadata": {
        "id": "PITGUx2Dk71D"
      },
      "source": [
        ">>Resultados:"
      ]
    },
    {
      "cell_type": "code",
      "execution_count": 66,
      "metadata": {
        "id": "xKyVSlIik9W5"
      },
      "outputs": [
        {
          "name": "stdout",
          "output_type": "stream",
          "text": [
            "{('Mario Kart 64', '5.55'),\n",
            " ('Mario Kart Wii', '15.85'),\n",
            " ('Pokemon Red/Pokemon Blue', '11.27'),\n",
            " ('Pokemon X/Pokemon Y', '5.17'),\n",
            " ('Super Mario Land', '10.83')}\n"
          ]
        }
      ],
      "source": [
        "pprint(set(list(third_set_comp(f))[:5]))"
      ]
    },
    {
      "cell_type": "markdown",
      "metadata": {
        "id": "g_qZveJEk9-0"
      },
      "source": [
        ">4. Conjunto de tuplas con las columnas: Name y Global_Sales de juegos que su plublisher sea Sega, su plataforma 3DS y que sean de Sonic."
      ]
    },
    {
      "cell_type": "code",
      "execution_count": 67,
      "metadata": {
        "id": "eQVxj-xflIcF"
      },
      "outputs": [],
      "source": [
        "def fourth_set_comp(name_file: str):\n",
        "    with open(name_file) as csvfile:\n",
        "        games = csv.reader(csvfile, delimiter=\",\")\n",
        "        h = next(games)\n",
        "\n",
        "        set_games = {(game[h.index(\"Name\")], game[h.index(\"Global_Sales\")])\n",
        "                     for game in games if game[h.index(\"Publisher\")] == \"Sega\"\n",
        "                     and game[h.index(\"Platform\")] == \"3DS\"\n",
        "                     and game[h.index(\"Name\")].find(\"Sonic\") != -1}\n",
        "\n",
        "        return set_games"
      ]
    },
    {
      "cell_type": "markdown",
      "metadata": {
        "id": "FgpJbnfGlKrS"
      },
      "source": [
        ">>Resultados:"
      ]
    },
    {
      "cell_type": "code",
      "execution_count": 68,
      "metadata": {
        "id": "jjdAvpeNlMCZ"
      },
      "outputs": [
        {
          "name": "stdout",
          "output_type": "stream",
          "text": [
            "{('Mario & Sonic at the London 2012 Olympic Games', '1.19'),\n",
            " ('Sonic & All-Stars Racing Transformed', '0.29'),\n",
            " ('Sonic Boom: Fire & Ice', '0.03'),\n",
            " ('Sonic Generations', '1.01'),\n",
            " ('Sonic Lost World', '0.49')}\n"
          ]
        }
      ],
      "source": [
        "pprint(set(list(fourth_set_comp(f))[:5]))"
      ]
    },
    {
      "cell_type": "markdown",
      "metadata": {
        "id": "VoQW9IFFlMbj"
      },
      "source": [
        ">5. Conjunto de los nombres de los Publisher's que poseen juegos del genero de Platform cuyo lanzamiento esta entre los años 2013 y 2016. "
      ]
    },
    {
      "cell_type": "code",
      "execution_count": 69,
      "metadata": {
        "id": "a9WyYP78lSdP"
      },
      "outputs": [],
      "source": [
        "def five_set_comp(name_file: str):\n",
        "    with open(name_file) as csvfile:\n",
        "        games = csv.reader(csvfile, delimiter=\",\")\n",
        "        h = next(games)\n",
        "\n",
        "        set_games = {\n",
        "            game[h.index(\"Publisher\")]\n",
        "            for game in games\n",
        "            if game[h.index(\"Year\")] >= '2013' and game[h.index(\"Year\")] <=\n",
        "            '2016' and game[h.index(\"Genre\")] == \"Platform\"\n",
        "        }\n",
        "\n",
        "        return set_games"
      ]
    },
    {
      "cell_type": "markdown",
      "metadata": {
        "id": "XE-wx-2ulUoO"
      },
      "source": [
        ">>Resultados:"
      ]
    },
    {
      "cell_type": "code",
      "execution_count": 70,
      "metadata": {
        "id": "6jgTw1l9lUBU"
      },
      "outputs": [
        {
          "name": "stdout",
          "output_type": "stream",
          "text": [
            "{'System 3', 'Deep Silver', 'Cygames', 'Intergrow', 'Ubisoft'}\n"
          ]
        }
      ],
      "source": [
        "pprint(set(list(five_set_comp(f))[:5]))"
      ]
    },
    {
      "cell_type": "markdown",
      "metadata": {
        "id": "5VWrxgMJlW87"
      },
      "source": [
        "### **Operaciones sobre conjuntos**"
      ]
    },
    {
      "cell_type": "markdown",
      "metadata": {
        "id": "q23fK33N47_e"
      },
      "source": [
        "\n",
        "\n",
        "> *NOTA: Impresión limitada a los primeros 5 elementos de los conjuntos.*\n",
        "\n"
      ]
    },
    {
      "cell_type": "markdown",
      "metadata": {
        "id": "KppH5g0wloDU"
      },
      "source": [
        "\n",
        "\n",
        "> *Para realizar las operaciones sobre conjuntos se definieron los siguientes conjuntos además de utilizar los ya obtenidos en la sección anterior.*\n",
        "\n"
      ]
    },
    {
      "cell_type": "markdown",
      "metadata": {
        "id": "ucDAma_fmEvd"
      },
      "source": [
        "> * Conjunto de tuplas con las columnas: Name y Global_Sales de juegos donde su plublisher sea Sega, su plataforma 3DS."
      ]
    },
    {
      "cell_type": "code",
      "execution_count": 71,
      "metadata": {
        "id": "HzZZuGFWmEAw"
      },
      "outputs": [],
      "source": [
        "def conjunto_p(name_file: str):\n",
        "    with open(name_file) as csvfile:\n",
        "        games = csv.reader(csvfile, delimiter=\",\")\n",
        "        h = next(games)\n",
        "\n",
        "        set_games = {(game[h.index(\"Name\")], game[h.index(\"Global_Sales\")])\n",
        "                     for game in games if game[h.index(\"Publisher\")] == \"Sega\"\n",
        "                     and game[h.index(\"Platform\")] == \"3DS\"}\n",
        "\n",
        "        return set_games"
      ]
    },
    {
      "cell_type": "markdown",
      "metadata": {
        "id": "zb_qOmLrmqm3"
      },
      "source": [
        "> * Conjunto de los nombres de las plataformas que tengan juegos del genero Action.\n"
      ]
    },
    {
      "cell_type": "code",
      "execution_count": 72,
      "metadata": {
        "id": "4xdbyNV9lniw"
      },
      "outputs": [],
      "source": [
        "def conjunto_q(name_file: str):\n",
        "    with open(name_file) as csvfile:\n",
        "        games = csv.reader(csvfile, delimiter=\",\")\n",
        "        h = next(games)\n",
        "\n",
        "        set_games = {\n",
        "            game[h.index(\"Platform\")]\n",
        "            for game in games if game[h.index(\"Genre\")] == \"Action\"\n",
        "        }\n",
        "\n",
        "        return set_games"
      ]
    },
    {
      "cell_type": "markdown",
      "metadata": {
        "id": "lBXRJWJvm0Tw"
      },
      "source": [
        "> * Conjunto de todos los registros que sus elementos sean la tupla \"Name\" y \"NA_Sales\" de los juegos que hayan vendido menos de 2.0 millones en NA."
      ]
    },
    {
      "cell_type": "code",
      "execution_count": 73,
      "metadata": {
        "id": "BhT5V-Adm80z"
      },
      "outputs": [],
      "source": [
        "def conjunto_u(name_file: str):\n",
        "    with open(name_file) as csvfile:\n",
        "        games = csv.reader(csvfile, delimiter=\",\")\n",
        "        h = next(games)\n",
        "\n",
        "        set_games = {(game[h.index(\"Name\")], game[h.index(\"NA_Sales\")])\n",
        "                     for game in games\n",
        "                     if float(game[h.index(\"NA_Sales\")]) > 4.0}\n",
        "\n",
        "        return set_games"
      ]
    },
    {
      "cell_type": "markdown",
      "metadata": {
        "id": "t4qEuF2vm_0Y"
      },
      "source": [
        "> **Operaciones con conjuntos:**"
      ]
    },
    {
      "cell_type": "markdown",
      "metadata": {
        "id": "R_Ezjh9znJDJ"
      },
      "source": [
        "> 1. Obtener el conjunto de las tuplas de los juegos donde su 'Platform' sea 3DS, su 'Publisher' sea Sega y su nombre no contenga la palabra Sonic."
      ]
    },
    {
      "cell_type": "code",
      "execution_count": 74,
      "metadata": {
        "id": "4Za7llJdnPSm"
      },
      "outputs": [
        {
          "name": "stdout",
          "output_type": "stream",
          "text": [
            "{('3DS Classic Collection', '0.03'),\n",
            " ('7th Dragon III Code: VFD', '0.16'),\n",
            " ('Hatsune Miku and Future Stars: Project Mirai', '0.18'),\n",
            " ('Hero Bank', '0.07'),\n",
            " ('Shinobi', '0.22')}\n"
          ]
        }
      ],
      "source": [
        "A = conjunto_p(f) - fourth_set_comp(f)\n",
        "pprint(set(list(A)[:5]))"
      ]
    },
    {
      "cell_type": "markdown",
      "metadata": {
        "id": "BuAdMdevnSh7"
      },
      "source": [
        "> 2. Obtener el conjunto de los 'Publisher' que poseen juegos del genero 'Platform' cuyo lanzamiento esta entre los años 2013-2016 y los nombres de las plataformas."
      ]
    },
    {
      "cell_type": "code",
      "execution_count": 75,
      "metadata": {
        "id": "8emXHyYHna8u"
      },
      "outputs": [
        {
          "name": "stdout",
          "output_type": "stream",
          "text": [
            "{'TG16', 'System 3', '2600', 'Deep Silver', 'GEN'}\n"
          ]
        }
      ],
      "source": [
        "B = five_set_comp(f).union(first_set_comp(f))\n",
        "pprint(set(list(B)[:5]))"
      ]
    },
    {
      "cell_type": "markdown",
      "metadata": {
        "id": "oH3lLq2GndtK"
      },
      "source": [
        ">3. Obtener el conjunto de tuplas que pertenezcan tanto al conjunto A y el resultado de ejercicio 2 de la sección anterior."
      ]
    },
    {
      "cell_type": "code",
      "execution_count": 76,
      "metadata": {
        "id": "LOTQh3danl1f"
      },
      "outputs": [
        {
          "name": "stdout",
          "output_type": "stream",
          "text": [
            "{('3DS Classic Collection', '0.03'),\n",
            " ('7th Dragon III Code: VFD', '0.16'),\n",
            " ('Hatsune Miku and Future Stars: Project Mirai', '0.18'),\n",
            " ('Hero Bank', '0.07'),\n",
            " ('Shinobi', '0.22')}\n"
          ]
        }
      ],
      "source": [
        "C = A.intersection(second_set_comp(f))\n",
        "pprint(set(list(C)[:5]))"
      ]
    },
    {
      "cell_type": "markdown",
      "metadata": {
        "id": "r6K5aSQLno4g"
      },
      "source": [
        ">4. Obtener el conjunto complemento de las plataformas que pertenecen a los resultados del ejercicio 1 de la sección anterior y el conjunto de la llamada a la función conjunto_q(f)."
      ]
    },
    {
      "cell_type": "code",
      "execution_count": 77,
      "metadata": {
        "id": "JwTKMOHjny0f"
      },
      "outputs": [
        {
          "name": "stdout",
          "output_type": "stream",
          "text": [
            "{'TG16', 'NG', '3DO', 'PCFX', 'SCD'}\n"
          ]
        }
      ],
      "source": [
        "D = conjunto_q(f).symmetric_difference(first_set_comp(f))\n",
        "pprint(set(list(D)[:5]))"
      ]
    },
    {
      "cell_type": "markdown",
      "metadata": {
        "id": "kICSqaZrn0zp"
      },
      "source": [
        ">5. Obtener el conjunto de tuplas donde las ventas de los juegos que se encuentren en el conjunto del ejercicio 3 de la sección anterior y en el conjunto de la llamda a la función conjunto_u(f)."
      ]
    },
    {
      "cell_type": "code",
      "execution_count": 78,
      "metadata": {
        "id": "TNM5ge5Dn9zH"
      },
      "outputs": [
        {
          "name": "stdout",
          "output_type": "stream",
          "text": [
            "{('Mario Kart 64', '5.55'),\n",
            " ('Mario Kart Wii', '15.85'),\n",
            " ('Pokemon Red/Pokemon Blue', '11.27'),\n",
            " ('Pokemon X/Pokemon Y', '5.17'),\n",
            " ('Super Mario Land', '10.83')}\n"
          ]
        }
      ],
      "source": [
        "E = third_set_comp(f) & conjunto_u(f)\n",
        "pprint(set(list(E)[:5]))"
      ]
    }
  ],
  "metadata": {
    "colab": {
      "collapsed_sections": [
        "bVJE_Jz3fYbk",
        "Zptt18Arh9Ea",
        "jlzE0rB8kUEH",
        "5VWrxgMJlW87"
      ],
      "provenance": [],
      "toc_visible": true
    },
    "kernelspec": {
      "display_name": "Python 3.10.7 64-bit",
      "language": "python",
      "name": "python3"
    },
    "language_info": {
      "codemirror_mode": {
        "name": "ipython",
        "version": 3
      },
      "file_extension": ".py",
      "mimetype": "text/x-python",
      "name": "python",
      "nbconvert_exporter": "python",
      "pygments_lexer": "ipython3",
      "version": "3.10.7"
    },
    "vscode": {
      "interpreter": {
        "hash": "7ec43ec9c7ba7e328166d3f70fe3706aeea4f174d737215f8935b558e95fd7d3"
      }
    }
  },
  "nbformat": 4,
  "nbformat_minor": 0
}
