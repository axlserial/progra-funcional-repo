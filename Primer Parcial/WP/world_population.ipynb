{
 "cells": [
  {
   "cell_type": "markdown",
   "metadata": {},
   "source": [
    "# Proyecto 1.1 World Population\n",
    "## Autor: García González Axel Isaac\n",
    "\n",
    "Importamos las librerías necesarias y definimos la constante con el nombre del archivo csv."
   ]
  },
  {
   "cell_type": "code",
   "execution_count": 41,
   "metadata": {},
   "outputs": [],
   "source": [
    "from statistics import mean\n",
    "from pprint import pprint\n",
    "import csv\n",
    "\n",
    "FILE_NAME = 'world_population.csv'"
   ]
  },
  {
   "cell_type": "markdown",
   "metadata": {},
   "source": [
    "# "
   ]
  },
  {
   "cell_type": "markdown",
   "metadata": {},
   "source": [
    "Ahora se muestra el codigo para los comprenhensions pedidos, algunas limitas a que se impriman cierta cantidad de elementos."
   ]
  },
  {
   "cell_type": "markdown",
   "metadata": {},
   "source": [
    "1. Crear una lista de diccionarios con todos los registros y todas columnas del csv."
   ]
  },
  {
   "cell_type": "code",
   "execution_count": 42,
   "metadata": {},
   "outputs": [
    {
     "name": "stdout",
     "output_type": "stream",
     "text": [
      "[{'1970 Population': '10752971',\n",
      "  '1980 Population': '12486631',\n",
      "  '1990 Population': '10694796',\n",
      "  '2000 Population': '19542982',\n",
      "  '2010 Population': '28189672',\n",
      "  '2015 Population': '33753499',\n",
      "  '2020 Population': '38972230',\n",
      "  '2022 Population': '41128771',\n",
      "  'Area (kmÂ²)': '652230',\n",
      "  'CCA3': 'AFG',\n",
      "  'Capital': 'Kabul',\n",
      "  'Continent': 'Asia',\n",
      "  'Country/Territory': 'Afghanistan',\n",
      "  'Density (per kmÂ²)': '63.0587',\n",
      "  'Growth Rate': '1.0257',\n",
      "  'Rank': '36',\n",
      "  'World Population Percentage': '0.52'}]\n"
     ]
    }
   ],
   "source": [
    "def part_one(name_file: str):\n",
    "    with open(name_file) as csvfile:\n",
    "        list_registers = []\n",
    "\n",
    "        registers = csv.reader(csvfile, delimiter=',')\n",
    "        h = next(registers)\n",
    "\n",
    "        for register in registers:\n",
    "            iterator = zip(h, register)\n",
    "            list_registers.append({k: v for k, v in iterator})\n",
    "\n",
    "        return list_registers\n",
    "\n",
    "pprint(part_one(FILE_NAME)[:1])"
   ]
  },
  {
   "cell_type": "markdown",
   "metadata": {},
   "source": [
    "2. Crear una lista de diccionarios con todos los registros y todas columnas del csv, excepto: 2022 Population, 2020 Population, 2015 Population, 2000 Population, 1990 Population, 1980 Population, 1970 Population, todos esto datos excluidos deben ser agregados a cada diccionario en una lista con la clave: Population"
   ]
  },
  {
   "cell_type": "code",
   "execution_count": 43,
   "metadata": {},
   "outputs": [
    {
     "name": "stdout",
     "output_type": "stream",
     "text": [
      "[{'Area (kmÂ²)': '652230',\n",
      "  'CCA3': 'AFG',\n",
      "  'Capital': 'Kabul',\n",
      "  'Continent': 'Asia',\n",
      "  'Country/Territory': 'Afghanistan',\n",
      "  'Density (per kmÂ²)': '63.0587',\n",
      "  'Growth Rate': '1.0257',\n",
      "  'Population': ['41128771',\n",
      "                 '38972230',\n",
      "                 '33753499',\n",
      "                 '28189672',\n",
      "                 '19542982',\n",
      "                 '10694796',\n",
      "                 '12486631',\n",
      "                 '10752971'],\n",
      "  'Rank': '36',\n",
      "  'World Population Percentage': '0.52'}]\n"
     ]
    }
   ],
   "source": [
    "def part_two(name_file: str):\n",
    "    population_keys = [\n",
    "        '2022 Population', '2020 Population', '2015 Population',\n",
    "        '2010 Population', '2000 Population', '1990 Population',\n",
    "        '1980 Population', '1970 Population'\n",
    "    ]\n",
    "\n",
    "    with open(name_file) as csvfile:\n",
    "        list_registers = []\n",
    "\n",
    "        registers = csv.reader(csvfile, delimiter=',')\n",
    "        h = next(registers)\n",
    "\n",
    "        for register in registers:\n",
    "            population_iterator = zip(h, register)\n",
    "            population = [\n",
    "                v for k, v in population_iterator if k in population_keys\n",
    "            ]\n",
    "\n",
    "            rest_iterator = zip(h, register)\n",
    "            list_registers.append(\n",
    "                {k: v\n",
    "                 for k, v in rest_iterator if k not in population_keys})\n",
    "\n",
    "            list_registers[-1]['Population'] = population\n",
    "\n",
    "        return list_registers\n",
    "\n",
    "pprint(part_two(FILE_NAME)[:1])"
   ]
  },
  {
   "cell_type": "markdown",
   "metadata": {},
   "source": [
    "3. Crear una lista de diccionarios con todos los registros y con las columnas:\n",
    "Country/Territory y 2022 Population."
   ]
  },
  {
   "cell_type": "code",
   "execution_count": 44,
   "metadata": {},
   "outputs": [
    {
     "name": "stdout",
     "output_type": "stream",
     "text": [
      "[{'2022 Population': '41128771', 'Country/Territory': 'Afghanistan'},\n",
      " {'2022 Population': '2842321', 'Country/Territory': 'Albania'},\n",
      " {'2022 Population': '44903225', 'Country/Territory': 'Algeria'},\n",
      " {'2022 Population': '44273', 'Country/Territory': 'American Samoa'},\n",
      " {'2022 Population': '79824', 'Country/Territory': 'Andorra'},\n",
      " {'2022 Population': '35588987', 'Country/Territory': 'Angola'},\n",
      " {'2022 Population': '15857', 'Country/Territory': 'Anguilla'},\n",
      " {'2022 Population': '93763', 'Country/Territory': 'Antigua and Barbuda'},\n",
      " {'2022 Population': '45510318', 'Country/Territory': 'Argentina'},\n",
      " {'2022 Population': '2780469', 'Country/Territory': 'Armenia'}]\n"
     ]
    }
   ],
   "source": [
    "def part_three(name_file: str):\n",
    "    selected_keys = [\"Country/Territory\", \"2022 Population\"]\n",
    "\n",
    "    with open(name_file) as csvfile:\n",
    "        list_registers = []\n",
    "\n",
    "        registers = csv.reader(csvfile, delimiter=',')\n",
    "        h = next(registers)\n",
    "\n",
    "        for register in registers:\n",
    "            iterator = zip(h, register)\n",
    "            list_registers.append(\n",
    "                {k: v\n",
    "                 for k, v in iterator if k in selected_keys})\n",
    "\n",
    "        return list_registers\n",
    "\n",
    "pprint(part_three(FILE_NAME)[:10])"
   ]
  },
  {
   "cell_type": "markdown",
   "metadata": {},
   "source": [
    "4. Crear una lista de tuplas , donde las tuplas están compuestas por las columnas:\n",
    "CCA3 y World Population Percentage de solo aquellos países que tienen un\n",
    "World Population Percentage mayor o igual a 1.0"
   ]
  },
  {
   "cell_type": "code",
   "execution_count": 45,
   "metadata": {},
   "outputs": [
    {
     "data": {
      "text/plain": [
       "[('BGD', '2.15'),\n",
       " ('BRA', '2.7'),\n",
       " ('CHN', '17.88'),\n",
       " ('COD', '1.24'),\n",
       " ('EGY', '1.39'),\n",
       " ('ETH', '1.55'),\n",
       " ('DEU', '1.05'),\n",
       " ('IND', '17.77'),\n",
       " ('IDN', '3.45'),\n",
       " ('IRN', '1.11'),\n",
       " ('JPN', '1.55'),\n",
       " ('MEX', '1.6'),\n",
       " ('NGA', '2.74'),\n",
       " ('PAK', '2.96'),\n",
       " ('PHL', '1.45'),\n",
       " ('RUS', '1.81'),\n",
       " ('TUR', '1.07'),\n",
       " ('USA', '4.24'),\n",
       " ('VNM', '1.23')]"
      ]
     },
     "execution_count": 45,
     "metadata": {},
     "output_type": "execute_result"
    }
   ],
   "source": [
    "def part_four(name_file: str):\n",
    "    selected_keys = [\"CCA3\", \"World Population Percentage\"]\n",
    "\n",
    "    with open(name_file) as csvfile:\n",
    "        registers = csv.reader(csvfile, delimiter=',')\n",
    "        h = next(registers)\n",
    "\n",
    "        list_registers = [(register[h.index(selected_keys[0])],\n",
    "                           register[h.index(selected_keys[1])])\n",
    "                          for register in registers\n",
    "                          if float(register[h.index(selected_keys[1])]) >= 1.0]\n",
    "\n",
    "        return list_registers\n",
    "\n",
    "part_four(FILE_NAME)"
   ]
  },
  {
   "cell_type": "markdown",
   "metadata": {},
   "source": [
    "5. Crear una lista de tuplas , donde las tuplas están compuestas por las columnas:\n",
    "CCA3 y Avg Population, este último valor se debe obtener del promedio de:\n",
    "2022 Population, 2020 Population, 2015 Population, 2000\n",
    "Population, 1990 Population, 1980 Population, 1970 Population."
   ]
  },
  {
   "cell_type": "code",
   "execution_count": 46,
   "metadata": {},
   "outputs": [
    {
     "name": "stdout",
     "output_type": "stream",
     "text": [
      "[('AFG', 24440194),\n",
      " ('ALB', 2906064.875),\n",
      " ('DZA', 31572797.125),\n",
      " ('ASM', 45336),\n",
      " ('AND', 59490.75),\n",
      " ('AGO', 20386478.125),\n",
      " ('AIA', 11418.125),\n",
      " ('ATG', 78731.25),\n",
      " ('ARG', 37059946.875),\n",
      " ('ARM', 2975690.875)]\n"
     ]
    }
   ],
   "source": [
    "def part_five(name_file: str):\n",
    "    population_keys = [\n",
    "        '2022 Population', '2020 Population', '2015 Population',\n",
    "        '2010 Population', '2000 Population', '1990 Population',\n",
    "        '1980 Population', '1970 Population'\n",
    "    ]\n",
    "\n",
    "    with open(name_file) as csvfile:\n",
    "        registers = csv.reader(csvfile, delimiter=',')\n",
    "        h = next(registers)\n",
    "\n",
    "        list_registers = [\n",
    "            (register[h.index(\"CCA3\")],\n",
    "             mean([int(register[h.index(k)]) for k in population_keys]))\n",
    "            for register in registers\n",
    "        ]\n",
    "\n",
    "        return list_registers\n",
    "\n",
    "pprint(part_five(FILE_NAME)[:10])"
   ]
  },
  {
   "cell_type": "markdown",
   "metadata": {},
   "source": [
    "6. Crear un conjunto de todos los países que sus elementos están formados una tupla:\n",
    "Country/Territory y Continent"
   ]
  },
  {
   "cell_type": "code",
   "execution_count": 47,
   "metadata": {},
   "outputs": [
    {
     "name": "stdout",
     "output_type": "stream",
     "text": [
      "{('Antigua and Barbuda', 'North America'),\n",
      " ('Gibraltar', 'Europe'),\n",
      " ('Kyrgyzstan', 'Asia'),\n",
      " ('Myanmar', 'Asia'),\n",
      " ('Namibia', 'Africa'),\n",
      " ('Netherlands', 'Europe'),\n",
      " ('Nicaragua', 'North America'),\n",
      " ('Sweden', 'Europe'),\n",
      " ('Tonga', 'Oceania'),\n",
      " ('Zimbabwe', 'Africa')}\n"
     ]
    }
   ],
   "source": [
    "def part_six(name_file: str):\n",
    "    selected_keys = [\"Country/Territory\", \"Continent\"]\n",
    "\n",
    "    with open(name_file) as csvfile:\n",
    "        registers = csv.reader(csvfile, delimiter=',')\n",
    "        h = next(registers)\n",
    "\n",
    "        set_registers = {(register[h.index(selected_keys[0])],\n",
    "                          register[h.index(selected_keys[1])])\n",
    "                         for register in registers}\n",
    "\n",
    "        return set_registers\n",
    "\n",
    "pprint(set(list(part_six(FILE_NAME))[:10]))"
   ]
  },
  {
   "cell_type": "markdown",
   "metadata": {},
   "source": [
    "7. Crear un conjunto de todos los continentes: Continent"
   ]
  },
  {
   "cell_type": "code",
   "execution_count": 48,
   "metadata": {},
   "outputs": [
    {
     "data": {
      "text/plain": [
       "{'Africa', 'Asia', 'Europe', 'North America', 'Oceania', 'South America'}"
      ]
     },
     "execution_count": 48,
     "metadata": {},
     "output_type": "execute_result"
    }
   ],
   "source": [
    "def part_seven(name_file: str):\n",
    "    with open(name_file) as csvfile:\n",
    "        registers = csv.reader(csvfile, delimiter=',')\n",
    "        h = next(registers)\n",
    "\n",
    "        set_registers = {\n",
    "            register[h.index(\"Continent\")]\n",
    "            for register in registers\n",
    "        }\n",
    "\n",
    "        return set_registers\n",
    "\n",
    "part_seven(FILE_NAME)"
   ]
  },
  {
   "cell_type": "markdown",
   "metadata": {},
   "source": [
    "8. Crear un conjunto de todos los países que sus elementos están formados por una\n",
    "tupla: Country/Territory y Continent, donde Continent sea North\n",
    "America."
   ]
  },
  {
   "cell_type": "code",
   "execution_count": 49,
   "metadata": {},
   "outputs": [
    {
     "name": "stdout",
     "output_type": "stream",
     "text": [
      "{('Anguilla', 'North America'),\n",
      " ('Antigua and Barbuda', 'North America'),\n",
      " ('Bermuda', 'North America'),\n",
      " ('Canada', 'North America'),\n",
      " ('Dominica', 'North America'),\n",
      " ('Grenada', 'North America'),\n",
      " ('Nicaragua', 'North America'),\n",
      " ('Panama', 'North America'),\n",
      " ('Saint Pierre and Miquelon', 'North America'),\n",
      " ('United States', 'North America')}\n"
     ]
    }
   ],
   "source": [
    "def part_eight(name_file: str):\n",
    "    selected_keys = [\"Country/Territory\", \"Continent\"]\n",
    "\n",
    "    with open(name_file) as csvfile:\n",
    "        registers = csv.reader(csvfile, delimiter=',')\n",
    "        h = next(registers)\n",
    "\n",
    "        set_registers = {\n",
    "            (register[h.index(selected_keys[0])],\n",
    "             register[h.index(selected_keys[1])])\n",
    "            for register in registers\n",
    "            if register[h.index(selected_keys[1])] == \"North America\"\n",
    "        }\n",
    "\n",
    "        return set_registers\n",
    "\n",
    "pprint(set(list(part_eight(FILE_NAME))[:10]))"
   ]
  },
  {
   "cell_type": "markdown",
   "metadata": {},
   "source": [
    "9. Crear un conjunto de todos los países que sus elementos están formados por una\n",
    "tupla: Country/Territory y Continent, donde Continent sea South\n",
    "America."
   ]
  },
  {
   "cell_type": "code",
   "execution_count": 50,
   "metadata": {},
   "outputs": [
    {
     "name": "stdout",
     "output_type": "stream",
     "text": [
      "{('Argentina', 'South America'),\n",
      " ('Bolivia', 'South America'),\n",
      " ('Brazil', 'South America'),\n",
      " ('Chile', 'South America'),\n",
      " ('Colombia', 'South America'),\n",
      " ('Ecuador', 'South America'),\n",
      " ('French Guiana', 'South America'),\n",
      " ('Guyana', 'South America'),\n",
      " ('Paraguay', 'South America'),\n",
      " ('Peru', 'South America')}\n"
     ]
    }
   ],
   "source": [
    "def part_nine(name_file: str):\n",
    "    selected_keys = [\"Country/Territory\", \"Continent\"]\n",
    "\n",
    "    with open(name_file) as csvfile:\n",
    "        registers = csv.reader(csvfile, delimiter=',')\n",
    "        h = next(registers)\n",
    "\n",
    "        set_registers = {\n",
    "            (register[h.index(selected_keys[0])],\n",
    "             register[h.index(selected_keys[1])])\n",
    "            for register in registers\n",
    "            if register[h.index(selected_keys[1])] == \"South America\"\n",
    "        }\n",
    "\n",
    "        return set_registers\n",
    "\n",
    "pprint(set(list(part_nine(FILE_NAME))[:10]))"
   ]
  },
  {
   "cell_type": "markdown",
   "metadata": {},
   "source": [
    "10. Crear un conjunto de todos los países que sus elementos están formados por una\n",
    "tupla: Country/Territory y Continent, donde Continent sea Oceania."
   ]
  },
  {
   "cell_type": "code",
   "execution_count": 51,
   "metadata": {},
   "outputs": [
    {
     "name": "stdout",
     "output_type": "stream",
     "text": [
      "{('Australia', 'Oceania'),\n",
      " ('Guam', 'Oceania'),\n",
      " ('Marshall Islands', 'Oceania'),\n",
      " ('New Caledonia', 'Oceania'),\n",
      " ('Niue', 'Oceania'),\n",
      " ('Northern Mariana Islands', 'Oceania'),\n",
      " ('Samoa', 'Oceania'),\n",
      " ('Tonga', 'Oceania'),\n",
      " ('Tuvalu', 'Oceania'),\n",
      " ('Wallis and Futuna', 'Oceania')}\n"
     ]
    }
   ],
   "source": [
    "def part_ten(name_file: str):\n",
    "    selected_keys = [\"Country/Territory\", \"Continent\"]\n",
    "\n",
    "    with open(name_file) as csvfile:\n",
    "        registers = csv.reader(csvfile, delimiter=',')\n",
    "        h = next(registers)\n",
    "\n",
    "        set_registers = {(register[h.index(selected_keys[0])],\n",
    "                          register[h.index(selected_keys[1])])\n",
    "                         for register in registers\n",
    "                         if register[h.index(selected_keys[1])] == \"Oceania\"}\n",
    "\n",
    "        return set_registers\n",
    "\n",
    "pprint(set(list(part_ten(FILE_NAME))[:10]))"
   ]
  },
  {
   "cell_type": "markdown",
   "metadata": {},
   "source": [
    "11. Crear un conjunto de todos los países que sus elementos están formados por una\n",
    "tupla: Country/Territory y Continent, donde Continent sea Europe."
   ]
  },
  {
   "cell_type": "code",
   "execution_count": 52,
   "metadata": {},
   "outputs": [
    {
     "name": "stdout",
     "output_type": "stream",
     "text": [
      "{('Andorra', 'Europe'),\n",
      " ('Belgium', 'Europe'),\n",
      " ('Faroe Islands', 'Europe'),\n",
      " ('Gibraltar', 'Europe'),\n",
      " ('Hungary', 'Europe'),\n",
      " ('Lithuania', 'Europe'),\n",
      " ('Netherlands', 'Europe'),\n",
      " ('Sweden', 'Europe'),\n",
      " ('United Kingdom', 'Europe'),\n",
      " ('Vatican City', 'Europe')}\n"
     ]
    }
   ],
   "source": [
    "def part_eleven(name_file: str):\n",
    "    selected_keys = [\"Country/Territory\", \"Continent\"]\n",
    "\n",
    "    with open(name_file) as csvfile:\n",
    "        registers = csv.reader(csvfile, delimiter=',')\n",
    "        h = next(registers)\n",
    "\n",
    "        set_registers = {(register[h.index(selected_keys[0])],\n",
    "                          register[h.index(selected_keys[1])])\n",
    "                         for register in registers\n",
    "                         if register[h.index(selected_keys[1])] == \"Europe\"}\n",
    "\n",
    "        return set_registers\n",
    "\n",
    "\n",
    "pprint(set(list(part_eleven(FILE_NAME))[:10]))"
   ]
  },
  {
   "cell_type": "markdown",
   "metadata": {},
   "source": [
    "12. Crear un conjunto de todos los países que sus elementos están formados por una\n",
    "tupla: Country/Territory y Continent, donde Continent sea Asia."
   ]
  },
  {
   "cell_type": "code",
   "execution_count": 53,
   "metadata": {},
   "outputs": [
    {
     "name": "stdout",
     "output_type": "stream",
     "text": [
      "{('Afghanistan', 'Asia'),\n",
      " ('Cambodia', 'Asia'),\n",
      " ('Georgia', 'Asia'),\n",
      " ('Japan', 'Asia'),\n",
      " ('Jordan', 'Asia'),\n",
      " ('Kyrgyzstan', 'Asia'),\n",
      " ('Laos', 'Asia'),\n",
      " ('Maldives', 'Asia'),\n",
      " ('Myanmar', 'Asia'),\n",
      " ('United Arab Emirates', 'Asia')}\n"
     ]
    }
   ],
   "source": [
    "def part_twelve(name_file: str):\n",
    "    selected_keys = [\"Country/Territory\", \"Continent\"]\n",
    "\n",
    "    with open(name_file) as csvfile:\n",
    "        registers = csv.reader(csvfile, delimiter=',')\n",
    "        h = next(registers)\n",
    "\n",
    "        set_registers = {(register[h.index(selected_keys[0])],\n",
    "                          register[h.index(selected_keys[1])])\n",
    "                         for register in registers\n",
    "                         if register[h.index(selected_keys[1])] == \"Asia\"}\n",
    "\n",
    "        return set_registers\n",
    "\n",
    "pprint(set(list(part_twelve(FILE_NAME))[:10]))"
   ]
  },
  {
   "cell_type": "markdown",
   "metadata": {},
   "source": [
    "13. Crear un conjunto de todos los países que sus elementos están formados por una\n",
    "tupla: Country/Territory y Continent, donde Continent sea Africa."
   ]
  },
  {
   "cell_type": "code",
   "execution_count": 54,
   "metadata": {},
   "outputs": [
    {
     "name": "stdout",
     "output_type": "stream",
     "text": [
      "{('Angola', 'Africa'),\n",
      " ('Central African Republic', 'Africa'),\n",
      " ('Chad', 'Africa'),\n",
      " ('Gambia', 'Africa'),\n",
      " ('Madagascar', 'Africa'),\n",
      " ('Mauritius', 'Africa'),\n",
      " ('Mayotte', 'Africa'),\n",
      " ('Namibia', 'Africa'),\n",
      " ('South Africa', 'Africa'),\n",
      " ('Zimbabwe', 'Africa')}\n"
     ]
    }
   ],
   "source": [
    "def part_thirteen(name_file: str):\n",
    "    selected_keys = [\"Country/Territory\", \"Continent\"]\n",
    "\n",
    "    with open(name_file) as csvfile:\n",
    "        registers = csv.reader(csvfile, delimiter=',')\n",
    "        h = next(registers)\n",
    "\n",
    "        set_registers = {(register[h.index(selected_keys[0])],\n",
    "                          register[h.index(selected_keys[1])])\n",
    "                         for register in registers\n",
    "                         if register[h.index(selected_keys[1])] == \"Africa\"}\n",
    "\n",
    "        return set_registers\n",
    "\n",
    "pprint(set(list(part_thirteen(FILE_NAME))[:10]))"
   ]
  },
  {
   "cell_type": "markdown",
   "metadata": {},
   "source": [
    "14. Mediante operación de conjuntos unir los conjuntos del ejercicio 11, 12, 13."
   ]
  },
  {
   "cell_type": "code",
   "execution_count": 55,
   "metadata": {},
   "outputs": [
    {
     "name": "stdout",
     "output_type": "stream",
     "text": [
      "{('Belgium', 'Europe'),\n",
      " ('Gibraltar', 'Europe'),\n",
      " ('Guernsey', 'Europe'),\n",
      " ('Kyrgyzstan', 'Asia'),\n",
      " ('Myanmar', 'Asia'),\n",
      " ('Namibia', 'Africa'),\n",
      " ('Netherlands', 'Europe'),\n",
      " ('Palestine', 'Asia'),\n",
      " ('Sweden', 'Europe'),\n",
      " ('Zimbabwe', 'Africa')}\n"
     ]
    }
   ],
   "source": [
    "def part_fourteen(name_file: list):\n",
    "    p11 = part_eleven(name_file)\n",
    "    p12 = part_twelve(name_file)\n",
    "    p13 = part_thirteen(name_file)\n",
    "\n",
    "    return p11.union(p12, p13)\n",
    "\n",
    "pprint(set(list(part_fourteen(FILE_NAME))[:10]))"
   ]
  },
  {
   "cell_type": "markdown",
   "metadata": {},
   "source": [
    "15. Mediante operación de conjuntos unir los conjuntos del ejercicio 8, 9."
   ]
  },
  {
   "cell_type": "code",
   "execution_count": 56,
   "metadata": {},
   "outputs": [
    {
     "name": "stdout",
     "output_type": "stream",
     "text": [
      "{('Anguilla', 'North America'),\n",
      " ('Antigua and Barbuda', 'North America'),\n",
      " ('Argentina', 'South America'),\n",
      " ('Bermuda', 'North America'),\n",
      " ('Dominica', 'North America'),\n",
      " ('Grenada', 'North America'),\n",
      " ('Nicaragua', 'North America'),\n",
      " ('Panama', 'North America'),\n",
      " ('Saint Pierre and Miquelon', 'North America'),\n",
      " ('United States', 'North America')}\n"
     ]
    }
   ],
   "source": [
    "def part_fifteen(name_file: list):\n",
    "    p8 = part_eight(name_file)\n",
    "    p9 = part_nine(name_file)\n",
    "\n",
    "    return p8.union(p9)\n",
    "\n",
    "pprint(set(list(part_fifteen(FILE_NAME))[:10]))"
   ]
  },
  {
   "cell_type": "markdown",
   "metadata": {},
   "source": [
    "16. Crear un conjunto de todos los países que sus elementos están formados por una\n",
    "tupla: Country/Territory y World Population dónde World Population\n",
    "sea menor a 0.4"
   ]
  },
  {
   "cell_type": "code",
   "execution_count": 57,
   "metadata": {},
   "outputs": [
    {
     "name": "stdout",
     "output_type": "stream",
     "text": [
      "{('American Samoa', '0'),\n",
      " ('Belgium', '0.15'),\n",
      " ('Kiribati', '0'),\n",
      " ('Laos', '0.09'),\n",
      " ('Maldives', '0.01'),\n",
      " ('Republic of the Congo', '0.07'),\n",
      " ('San Marino', '0'),\n",
      " ('Sint Maarten', '0'),\n",
      " ('United Arab Emirates', '0.12'),\n",
      " ('Zimbabwe', '0.2')}\n"
     ]
    }
   ],
   "source": [
    "def part_sixteen(name_file: str):\n",
    "    selected_keys = [\"Country/Territory\", \"World Population Percentage\"]\n",
    "\n",
    "    with open(name_file) as csvfile:\n",
    "        registers = csv.reader(csvfile, delimiter=',')\n",
    "        h = next(registers)\n",
    "\n",
    "        list_registers = {(register[h.index(selected_keys[0])],\n",
    "                           register[h.index(selected_keys[1])])\n",
    "                          for register in registers\n",
    "                          if float(register[h.index(selected_keys[1])]) < 0.4}\n",
    "\n",
    "        return list_registers\n",
    "\n",
    "pprint(set(list(part_sixteen(FILE_NAME))[:10]))"
   ]
  },
  {
   "cell_type": "markdown",
   "metadata": {},
   "source": [
    "17. Crear un conjunto de todos los países que sus elementos están formados por una\n",
    "tupla: Country/Territory y World Population dónde World Population\n",
    "sea mayor a 0.2"
   ]
  },
  {
   "cell_type": "code",
   "execution_count": 58,
   "metadata": {},
   "outputs": [
    {
     "name": "stdout",
     "output_type": "stream",
     "text": [
      "{('Ecuador', '0.23'),\n",
      " ('Iran', '1.11'),\n",
      " ('Mozambique', '0.41'),\n",
      " ('Nigeria', '2.74'),\n",
      " ('Peru', '0.43'),\n",
      " ('Poland', '0.5'),\n",
      " ('Somalia', '0.22'),\n",
      " ('Tanzania', '0.82'),\n",
      " ('United Kingdom', '0.85'),\n",
      " ('Venezuela', '0.35')}\n"
     ]
    }
   ],
   "source": [
    "def part_seventeen(name_file: str):\n",
    "    selected_keys = [\"Country/Territory\", \"World Population Percentage\"]\n",
    "\n",
    "    with open(name_file) as csvfile:\n",
    "        registers = csv.reader(csvfile, delimiter=',')\n",
    "        h = next(registers)\n",
    "\n",
    "        list_registers = {(register[h.index(selected_keys[0])],\n",
    "                           register[h.index(selected_keys[1])])\n",
    "                          for register in registers\n",
    "                          if float(register[h.index(selected_keys[1])]) > 0.2}\n",
    "\n",
    "        return list_registers\n",
    "\n",
    "pprint(set(list(part_seventeen(FILE_NAME))[:10]))"
   ]
  },
  {
   "cell_type": "markdown",
   "metadata": {},
   "source": [
    "18. Mediante operación de conjunto obtener los países que se encuentran tanto en el\n",
    "conjunto del ejercicio 16 como en el conjunto del ejercicio 17."
   ]
  },
  {
   "cell_type": "code",
   "execution_count": 59,
   "metadata": {},
   "outputs": [
    {
     "data": {
      "text/plain": [
       "{('Australia', '0.33'),\n",
       " ('Burkina Faso', '0.28'),\n",
       " ('Cambodia', '0.21'),\n",
       " ('Cameroon', '0.35'),\n",
       " ('Chad', '0.22'),\n",
       " ('Chile', '0.25'),\n",
       " ('Ecuador', '0.23'),\n",
       " ('Guatemala', '0.22'),\n",
       " ('Ivory Coast', '0.35'),\n",
       " ('Kazakhstan', '0.24'),\n",
       " ('Madagascar', '0.37'),\n",
       " ('Malawi', '0.26'),\n",
       " ('Mali', '0.28'),\n",
       " ('Nepal', '0.38'),\n",
       " ('Netherlands', '0.22'),\n",
       " ('Niger', '0.33'),\n",
       " ('North Korea', '0.33'),\n",
       " ('Romania', '0.25'),\n",
       " ('Senegal', '0.22'),\n",
       " ('Somalia', '0.22'),\n",
       " ('Sri Lanka', '0.27'),\n",
       " ('Syria', '0.28'),\n",
       " ('Taiwan', '0.3'),\n",
       " ('Venezuela', '0.35'),\n",
       " ('Zambia', '0.25')}"
      ]
     },
     "execution_count": 59,
     "metadata": {},
     "output_type": "execute_result"
    }
   ],
   "source": [
    "def part_eighteen(name_file: str):\n",
    "    p16 = part_sixteen(name_file)\n",
    "    p17 = part_seventeen(name_file)\n",
    "\n",
    "    return p16.intersection(p17)\n",
    "\n",
    "part_eighteen(FILE_NAME)"
   ]
  },
  {
   "cell_type": "markdown",
   "metadata": {},
   "source": [
    "19. Mediante operación de conjunto obtener los países que se encuentran en el conjunto\n",
    "del ejercicio 16 pero no en el conjunto del ejercicio 17."
   ]
  },
  {
   "cell_type": "code",
   "execution_count": 60,
   "metadata": {},
   "outputs": [
    {
     "name": "stdout",
     "output_type": "stream",
     "text": [
      "{('American Samoa', '0'),\n",
      " ('Belgium', '0.15'),\n",
      " ('Kiribati', '0'),\n",
      " ('Maldives', '0.01'),\n",
      " ('Republic of the Congo', '0.07'),\n",
      " ('San Marino', '0'),\n",
      " ('Serbia', '0.09'),\n",
      " ('Sint Maarten', '0'),\n",
      " ('United Arab Emirates', '0.12'),\n",
      " ('Zimbabwe', '0.2')}\n"
     ]
    }
   ],
   "source": [
    "def part_nineteen(name_file: str):\n",
    "    p16 = part_sixteen(name_file)\n",
    "    p17 = part_seventeen(name_file)\n",
    "\n",
    "    return p16.difference(p17)\n",
    "\n",
    "pprint(set(list(part_nineteen(FILE_NAME))[:10]))"
   ]
  },
  {
   "cell_type": "markdown",
   "metadata": {},
   "source": [
    "20. Mediante operación de conjunto obtener los países que se encuentran en el conjunto\n",
    "del ejercicio 17 pero no en el conjunto del ejercicio 16."
   ]
  },
  {
   "cell_type": "code",
   "execution_count": 61,
   "metadata": {},
   "outputs": [
    {
     "name": "stdout",
     "output_type": "stream",
     "text": [
      "{('Colombia', '0.65'),\n",
      " ('Iran', '1.11'),\n",
      " ('Malaysia', '0.43'),\n",
      " ('Mozambique', '0.41'),\n",
      " ('Nigeria', '2.74'),\n",
      " ('Peru', '0.43'),\n",
      " ('Poland', '0.5'),\n",
      " ('Sudan', '0.59'),\n",
      " ('Tanzania', '0.82'),\n",
      " ('United Kingdom', '0.85')}\n"
     ]
    }
   ],
   "source": [
    "def part_twenty(name_file: str):\n",
    "    p16 = part_sixteen(name_file)\n",
    "    p17 = part_seventeen(name_file)\n",
    "\n",
    "    return p17.difference(p16)\n",
    "\n",
    "pprint(set(list(part_twenty(FILE_NAME))[:10]))"
   ]
  }
 ],
 "metadata": {
  "kernelspec": {
   "display_name": "Python 3.10.6 64-bit",
   "language": "python",
   "name": "python3"
  },
  "language_info": {
   "codemirror_mode": {
    "name": "ipython",
    "version": 3
   },
   "file_extension": ".py",
   "mimetype": "text/x-python",
   "name": "python",
   "nbconvert_exporter": "python",
   "pygments_lexer": "ipython3",
   "version": "3.10.7"
  },
  "orig_nbformat": 4,
  "vscode": {
   "interpreter": {
    "hash": "7ec43ec9c7ba7e328166d3f70fe3706aeea4f174d737215f8935b558e95fd7d3"
   }
  }
 },
 "nbformat": 4,
 "nbformat_minor": 2
}
